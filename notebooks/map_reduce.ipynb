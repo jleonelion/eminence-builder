{
 "cells": [
  {
   "cell_type": "markdown",
   "metadata": {},
   "source": [
    "# Setup"
   ]
  },
  {
   "cell_type": "code",
   "execution_count": 498,
   "metadata": {},
   "outputs": [
    {
     "name": "stderr",
     "output_type": "stream",
     "text": [
      "25535.21s - pydevd: Sending message related to process being replaced timed-out after 5 seconds\n"
     ]
    }
   ],
   "source": [
    "%%capture --no-stderr\n",
    "%pip install --quiet -U langgraph pydantic"
   ]
  },
  {
   "cell_type": "code",
   "execution_count": 499,
   "metadata": {},
   "outputs": [],
   "source": [
    "import getpass\n",
    "import os\n",
    "\n",
    "\n",
    "def _set_env(var: str):\n",
    "    if not os.environ.get(var):\n",
    "        os.environ[var] = getpass.getpass(f\"{var}: \")"
   ]
  },
  {
   "cell_type": "code",
   "execution_count": 500,
   "metadata": {},
   "outputs": [],
   "source": [
    "_set_env(\"LANGCHAIN_API_KEY\")\n",
    "_set_env(\"LANGCHAIN_TRACING_V2\")\n",
    "_set_env(\"LANGCHAIN_PROJECT\")"
   ]
  },
  {
   "cell_type": "markdown",
   "metadata": {},
   "source": [
    "# Write Section Graph"
   ]
  },
  {
   "cell_type": "markdown",
   "metadata": {},
   "source": [
    "## State"
   ]
  },
  {
   "cell_type": "code",
   "execution_count": 501,
   "metadata": {},
   "outputs": [],
   "source": [
    "from typing import Annotated, Literal, Optional\n",
    "\n",
    "from langchain_core.documents import Document\n",
    "\n",
    "# from langgraph.graph.message import add\n",
    "from agents.blog.schema import Section\n",
    "\n",
    "\n",
    "# @dataclass(kw_only=True)\n",
    "# class WriteBlogSectionState:\n",
    "#     \"\"\"State structure for the agent.\"\"\"\n",
    "\n",
    "#     tavily_topic: Annotated[Literal[\"general\", \"news\"], lambda x, y: y] = field(\n",
    "#         default=\"general\",\n",
    "#         metadata={\"description\": \"Type of search to perform ('news' or 'general')\"},\n",
    "#     )\n",
    "#     # tavily_days: Optional[int] # Only applicable for news topic\n",
    "#     number_of_queries: Annotated[int, lambda x, y: y] = field(\n",
    "#         default=5,\n",
    "#         metadata={\"description\": \"Number web search queries to perform per section\"},\n",
    "#     )\n",
    "#     section: Annotated[Section, lambda x, y: y] = field(\n",
    "#         metadata={\"description\": \"Section of the blog post to write.\"},\n",
    "#     )\n",
    "#     completed_sections: Optional[list[Section]] = field(\n",
    "#         default=None,\n",
    "#         metadata={\"description\": \"Sections that have been completed.\"},\n",
    "#     )\n",
    "#     reference_content: Annotated[list[Document], reduce_docs] = field(\n",
    "#         metadata={\n",
    "#             \"description\": \"Collection of documents to reference when writing the blog.\"\n",
    "#         },\n",
    "#     )\n",
    "#     word_limit: Annotated[int, lambda x, y: y] = field(\n",
    "#         default=500,\n",
    "#         metadata={\"description\": \"Word limit for the section being written.\"},\n",
    "#     )\n",
    "#     search_limit: Annotated[int, lambda x, y: y] = field(\n",
    "#         default=3,\n",
    "#         metadata={\n",
    "#             \"description\": \"Limit on number of searches to perform when writing content.\"\n",
    "#         },\n",
    "#     )\n",
    "#     completed_blog_sections: Annotated[str, lambda x, y: y] = field(\n",
    "#         default=\"\",\n",
    "#         metadata={\n",
    "#             \"description\": \"String of any completed sections from research to write final sections\"\n",
    "#         },\n",
    "#     )"
   ]
  },
  {
   "cell_type": "code",
   "execution_count": 502,
   "metadata": {},
   "outputs": [],
   "source": [
    "# @dataclass(kw_only=True)\n",
    "# class WriteBlogSectionOutput:\n",
    "#     \"\"\"Output structure for the agent.\"\"\"\n",
    "\n",
    "#     completed_sections: Optional[list[Section]] = field(\n",
    "#         default=None,\n",
    "#         metadata={\"description\": \"Sections that have been completed.\"},\n",
    "#     )\n"
   ]
  },
  {
   "cell_type": "code",
   "execution_count": 503,
   "metadata": {},
   "outputs": [],
   "source": [
    "# class SectionState(TypedDict):\n",
    "#     tavily_topic: Literal[\"general\", \"news\"] # Tavily search topic\n",
    "#     tavily_days: Optional[int] # Only applicable for news topic\n",
    "#     number_of_queries: int # Number web search queries to perform per section\n",
    "#     section: Section # Report section\n",
    "#     source_str: str # String of formatted source content from web search\n",
    "#     report_sections_from_research: str # String of any completed sections from research to write final sections\n",
    "#     completed_sections: list[Section] # Final key we duplicate in outer state for Send() API\n",
    "\n",
    "# class SectionOutputState(TypedDict):\n",
    "#     completed_sections: list[Section] # Final key we duplicate in outer state for Send() API"
   ]
  },
  {
   "cell_type": "code",
   "execution_count": 504,
   "metadata": {},
   "outputs": [],
   "source": [
    "from operator import add\n",
    "\n",
    "from pydantic import BaseModel\n",
    "\n",
    "\n",
    "class BlogWriteSectionState(BaseModel):\n",
    "    \"\"\"State structure for the agent.\"\"\"\n",
    "\n",
    "    tavily_topic: Literal[\"general\", \"news\"] = \"general\"\n",
    "    tavily_days: Optional[int] = None\n",
    "    number_of_queries: int = 5\n",
    "    section: Section\n",
    "    completed_sections: Annotated[list[Section], add] = []\n",
    "    reference_content: list[Document] = []\n",
    "    word_limit: int = 500\n",
    "    search_limit: int = 3\n",
    "    completed_blog_sections: str = \"\"\n",
    "\n",
    "\n",
    "class BlogWriteSectionOutput(BaseModel):\n",
    "    \"\"\"Output structure for the agent.\"\"\"\n",
    "\n",
    "    completed_sections: Annotated[list[Section], add] = None"
   ]
  },
  {
   "cell_type": "markdown",
   "metadata": {},
   "source": [
    "## Nodes"
   ]
  },
  {
   "cell_type": "code",
   "execution_count": 505,
   "metadata": {},
   "outputs": [],
   "source": [
    "async def write_section(state: BlogWriteSectionState) -> BlogWriteSectionOutput:\n",
    "    \"\"\"Simulate writing section.\"\"\"\n",
    "    # Get state\n",
    "    # section = state[\"section\"]\n",
    "    section = state.section\n",
    "    # Generate section\n",
    "    section_content = f\"Content for {section.name} section.\"\n",
    "\n",
    "    # Write content to the section object\n",
    "    section.content = section_content\n",
    "\n",
    "    # return WriteBlogSectionOutput(completed_sections=[state.section])\n",
    "    # return {\"completed_sections\": [state[\"section\"]]}\n",
    "    return {\"completed_sections\": [state.section]}"
   ]
  },
  {
   "cell_type": "markdown",
   "metadata": {},
   "source": [
    "## Graph"
   ]
  },
  {
   "cell_type": "code",
   "execution_count": 506,
   "metadata": {},
   "outputs": [
    {
     "data": {
      "image/png": "[encoded data removed]",
      "text/plain": [
       "<IPython.core.display.Image object>"
      ]
     },
     "metadata": {},
     "output_type": "display_data"
    }
   ],
   "source": [
    "from IPython.display import Image, display\n",
    "from langgraph.graph import END, START, StateGraph\n",
    "\n",
    "# Define the graph\n",
    "# section_builder = StateGraph(state_schema=WriteBlogSectionState)\n",
    "# section_builder = StateGraph(state_schema=SectionState, output=SectionOutputState)\n",
    "section_builder = StateGraph(\n",
    "    state_schema=BlogWriteSectionState, output=BlogWriteSectionOutput\n",
    ")\n",
    "section_builder.add_node(write_section)\n",
    "\n",
    "section_builder.add_edge(START, \"write_section\")\n",
    "section_builder.add_edge(\"write_section\", END)\n",
    "\n",
    "# Compile\n",
    "writer_graph = section_builder.compile()\n",
    "writer_graph.name = \"Blog Graph\"\n",
    "\n",
    "# View\n",
    "display(Image(writer_graph.get_graph(xray=1).draw_mermaid_png()))"
   ]
  },
  {
   "cell_type": "code",
   "execution_count": 507,
   "metadata": {},
   "outputs": [],
   "source": [
    "# create dummy section\n",
    "section = Section(\n",
    "    name=\"Background\",\n",
    "    description=\"Background on the topic\",\n",
    "    content=\"\",\n",
    "    research=True,\n",
    ")\n",
    "# state = WriteBlogSectionState(section=section, reference_content=[])  # create state\n",
    "# state = {\n",
    "#     \"tavily_topic\": \"general\",\n",
    "#     \"tavily_days\": None,\n",
    "#     \"number_of_queries\": 5,\n",
    "#     \"section\": section,\n",
    "#     \"source_str\": \"\",\n",
    "#     \"report_sections_from_research\": \"\",\n",
    "#     \"completed_sections\": [],\n",
    "# }\n",
    "state = BlogWriteSectionState(section=section, reference_content=[])  # create state\n",
    "result = await writer_graph.ainvoke(state)  # excercise the graph"
   ]
  },
  {
   "cell_type": "code",
   "execution_count": 508,
   "metadata": {},
   "outputs": [
    {
     "data": {
      "text/plain": [
       "{'completed_sections': [Section(name='Background', description='Background on the topic', research=True, content='Content for Background section.')]}"
      ]
     },
     "execution_count": 508,
     "metadata": {},
     "output_type": "execute_result"
    }
   ],
   "source": [
    "result"
   ]
  },
  {
   "cell_type": "markdown",
   "metadata": {},
   "source": [
    "# Blog Graph"
   ]
  },
  {
   "cell_type": "markdown",
   "metadata": {},
   "source": [
    "## State"
   ]
  },
  {
   "cell_type": "code",
   "execution_count": 509,
   "metadata": {},
   "outputs": [],
   "source": [
    "from typing import Annotated, Optional\n",
    "\n",
    "from langchain_core.documents import Document\n",
    "from langchain_core.messages import AnyMessage\n",
    "\n",
    "from agents.blog.schema import BlogRequest, Section\n",
    "\n",
    "\n",
    "# @dataclass(kw_only=True)\n",
    "# class BlogState:\n",
    "#     \"\"\"State structure for the agent.\"\"\"\n",
    "\n",
    "#     messages: Annotated[list[AnyMessage], add_messages] = field(\n",
    "#         default_factory=list,\n",
    "#         metadata={\"description\": \"History of chat messages.\"},\n",
    "#     )\n",
    "#     blog_request: Optional[BlogRequest] = field(\n",
    "#         default=None,\n",
    "#         metadata={\"description\": \"User inputs describing desired blog.\"},\n",
    "#     )\n",
    "#     reference_content: Annotated[list[Document], reduce_docs] = field(\n",
    "#         default_factory=list,\n",
    "#         metadata={\n",
    "#             \"description\": \"Collection of documents to reference when writing the blog.\"\n",
    "#         },\n",
    "#     )\n",
    "#     sections: list[Section] = field(\n",
    "#         default_factory=list,\n",
    "#         metadata={\"description\": \"Sections of the blog post.\"},\n",
    "#     )\n",
    "#     completed_sections: Annotated[list, operator.add] = field(\n",
    "#         default_factory=list,\n",
    "#         metadata={\"description\": \"Sections that have been completed.\"},\n",
    "#     )\n",
    "#     blog_structure: str = field(\n",
    "#         default=\"\",\n",
    "#         metadata={\"description\": \"The structure of the blog post.\"},\n",
    "#     )\n",
    "#     final_blog: str = field(\n",
    "#         default=\"\",\n",
    "#         metadata={\"description\": \"The final blog post.\"},\n",
    "#     )\n",
    "#     completed_blog_sections: str = field(\n",
    "#         default=\"\",\n",
    "#         metadata={\"description\": \"Formatted string of various sections completed.\"},\n",
    "#     )"
   ]
  },
  {
   "cell_type": "code",
   "execution_count": 510,
   "metadata": {},
   "outputs": [],
   "source": [
    "# class ReportState(TypedDict):\n",
    "#     topic: str # Report topic\n",
    "#     tavily_topic: Literal[\"general\", \"news\"] # Tavily search topic\n",
    "#     tavily_days: Optional[int] # Only applicable for news topic\n",
    "#     report_structure: str # Report structure\n",
    "#     number_of_queries: int # Number web search queries to perform per section\n",
    "#     sections: list[Section] # List of report sections\n",
    "#     completed_sections: Annotated[list, operator.add] # Send() API key\n",
    "#     report_sections_from_research: str # String of any completed sections from research to write final sections\n",
    "#     final_report: str # Final report"
   ]
  },
  {
   "cell_type": "code",
   "execution_count": 511,
   "metadata": {},
   "outputs": [],
   "source": [
    "from operator import add\n",
    "\n",
    "from pydantic import BaseModel\n",
    "\n",
    "\n",
    "class BlogState(BaseModel):\n",
    "    \"\"\"State structure for the agent.\"\"\"\n",
    "\n",
    "    messages: list[AnyMessage] = []\n",
    "    blog_request: Optional[BlogRequest]\n",
    "    reference_content: list[Document] = []\n",
    "    sections: list[Section] = []\n",
    "    completed_sections: Annotated[list, add] = []\n",
    "    blog_structure: str = \"\"\n",
    "    final_blog: str = \"\"\n",
    "    completed_blog_sections: str = \"\""
   ]
  },
  {
   "cell_type": "markdown",
   "metadata": {},
   "source": [
    "## Nodes"
   ]
  },
  {
   "cell_type": "code",
   "execution_count": 512,
   "metadata": {},
   "outputs": [],
   "source": [
    "# def define_structure(state: BlogState) -> BlogState:\n",
    "def define_structure(state: BlogState) -> BlogState:\n",
    "    \"\"\"Define structure for the blog post.\"\"\"\n",
    "    # Generate sections (statically)\n",
    "    sections = [\n",
    "        Section(\n",
    "            name=\"Introduction\",\n",
    "            description=\"Introduction to the topic\",\n",
    "            content=\"\",\n",
    "            research=False,\n",
    "        ),\n",
    "        Section(\n",
    "            name=\"Background\",\n",
    "            description=\"Background on the topic\",\n",
    "            content=\"\",\n",
    "            research=True,\n",
    "        ),\n",
    "        Section(\n",
    "            name=\"Methodology\",\n",
    "            description=\"Methodology for the research\",\n",
    "            content=\"\",\n",
    "            research=True,\n",
    "        ),\n",
    "        Section(\n",
    "            name=\"Results\",\n",
    "            description=\"Results of the research\",\n",
    "            content=\"\",\n",
    "            research=True,\n",
    "        ),\n",
    "        Section(\n",
    "            name=\"Discussion\",\n",
    "            description=\"Discussion of the results\",\n",
    "            content=\"\",\n",
    "            research=True,\n",
    "        ),\n",
    "        Section(\n",
    "            name=\"Conclusion\",\n",
    "            description=\"Conclusion of the research\",\n",
    "            content=\"\",\n",
    "            research=False,\n",
    "        ),\n",
    "    ]\n",
    "    return {\"sections\": sections}"
   ]
  },
  {
   "cell_type": "code",
   "execution_count": 513,
   "metadata": {},
   "outputs": [],
   "source": [
    "# def approve_structure(state: BlogState) -> BlogState:\n",
    "def approve_structure(state: BlogState) -> BlogState:\n",
    "    \"\"\"Simulate HITL approval of the blog post structure.\"\"\"\n",
    "    return {\"sections\": state.sections}\n",
    "    # return {\"sections\": []}"
   ]
  },
  {
   "cell_type": "code",
   "execution_count": 514,
   "metadata": {},
   "outputs": [],
   "source": [
    "from langgraph.constants import Send\n",
    "\n",
    "\n",
    "def spawn_section_writing(state: BlogState):\n",
    "    # def spawn_section_writing(state: ReportState):\n",
    "    \"\"\"This is the \"map\" step when we kick off web research for some sections of the report\"\"\"\n",
    "    # Kick off section writing in parallel via Send() API for any sections that require research\n",
    "    return [\n",
    "        # Send(\"write_section\", WriteBlogSectionState(section=s, reference_content=state.reference_content))\n",
    "        Send(\n",
    "            \"write_section\",\n",
    "            {\n",
    "                \"tavily_topic\": \"general\",\n",
    "                \"tavily_days\": None,\n",
    "                \"number_of_queries\": 5,\n",
    "                \"section\": s,\n",
    "                \"source_str\": \"\",\n",
    "                \"report_sections_from_research\": \"\",\n",
    "                \"completed_sections\": [],\n",
    "            },\n",
    "        )\n",
    "        for s in state.sections\n",
    "        # for s in state[\"sections\"]\n",
    "        if s.research\n",
    "    ]"
   ]
  },
  {
   "cell_type": "code",
   "execution_count": 515,
   "metadata": {},
   "outputs": [],
   "source": [
    "def format_sections(sections: list[Section]) -> str:\n",
    "    \"\"\"Format a list of sections into a string\"\"\"\n",
    "    formatted_str = \"\"\n",
    "    for idx, section in enumerate(sections, 1):\n",
    "        formatted_str += f\"\"\"\n",
    "{\"=\" * 60}\n",
    "Section {idx}: {section.name}\n",
    "{\"=\" * 60}\n",
    "Description:\n",
    "{section.description}\n",
    "Requires Research: \n",
    "{section.research}\n",
    "\n",
    "Content:\n",
    "{section.content if section.content else \"[Not yet written]\"}\n",
    "\n",
    "\"\"\"\n",
    "    return formatted_str\n",
    "\n",
    "\n",
    "def gather_completed_sections(state: BlogState):\n",
    "    # def gather_completed_sections(state: ReportState):\n",
    "    \"\"\"Gather completed sections from research\"\"\"\n",
    "    # List of completed sections\n",
    "    completed_sections = state.completed_sections\n",
    "    # completed_sections = state[\"completed_sections\"]\n",
    "\n",
    "    # Format completed section to str to use as context for final sections\n",
    "    completed_blog_sections = format_sections(completed_sections)\n",
    "\n",
    "    return {\"completed_blog_sections\": completed_blog_sections}"
   ]
  },
  {
   "cell_type": "code",
   "execution_count": 516,
   "metadata": {},
   "outputs": [],
   "source": [
    "# def write_final_sections(state: WriteBlogSectionState):\n",
    "# def write_final_sections(state: SectionState):\n",
    "def write_final_sections(state: BlogWriteSectionState):\n",
    "    \"\"\"Write final sections of the report, which do not require web search and use the completed sections as context\"\"\"\n",
    "    # Get state\n",
    "    section = state.section\n",
    "    # section = state[\"section\"]\n",
    "\n",
    "    # Generate section\n",
    "    section_content = f\"Final section {section.name}\"\n",
    "\n",
    "    # Write content to section\n",
    "    section.content = section_content\n",
    "\n",
    "    # Write the updated section to completed sections\n",
    "    return {\"completed_sections\": [section]}"
   ]
  },
  {
   "cell_type": "code",
   "execution_count": 517,
   "metadata": {},
   "outputs": [],
   "source": [
    "# def spawn_final_section_writing(state: ReportState):\n",
    "def spawn_final_section_writing(state: BlogState):\n",
    "    \"\"\"This is the \"map\" step when we kick off research on any sections that require it using the Send API\"\"\"\n",
    "    # Kick off section writing in parallel via Send() API for any sections that do not require research\n",
    "    return [\n",
    "        # Send(\"write_final_sections\", {\n",
    "        #     \"tavily_topic\": \"general\",\n",
    "        #     \"tavily_days\": None,\n",
    "        #     \"number_of_queries\": 5,\n",
    "        #     \"section\": s,\n",
    "        #     \"source_str\": \"\",\n",
    "        #     \"report_sections_from_research\": \"\",\n",
    "        #     \"completed_sections\": [],\n",
    "        # })\n",
    "        Send(\n",
    "            \"write_final_sections\",\n",
    "            BlogWriteSectionState(\n",
    "                section=s, completed_blog_sections=state.completed_blog_sections\n",
    "            ),\n",
    "        )\n",
    "        # for s in state[\"sections\"]\n",
    "        for s in state.sections\n",
    "        if not s.research\n",
    "    ]"
   ]
  },
  {
   "cell_type": "code",
   "execution_count": 518,
   "metadata": {},
   "outputs": [],
   "source": [
    "# def compile_final_report(state: ReportState):\n",
    "def compile_final_report(state: BlogState):\n",
    "    \"\"\"Compile the final report\"\"\"\n",
    "    # Get sections\n",
    "    # sections = state[\"sections\"]\n",
    "    sections = state.sections\n",
    "    # completed_sections = {s.name: s.content for s in state[\"completed_sections\"]}\n",
    "    completed_sections = {s.name: s.content for s in state.completed_sections}\n",
    "\n",
    "    # Update sections with completed content while maintaining original order\n",
    "    for section in sections:\n",
    "        section.content = completed_sections[section.name]\n",
    "\n",
    "    # Compile final report\n",
    "    all_sections = \"\\n\\n\".join([s.content for s in sections])\n",
    "\n",
    "    return {\"final_blog\": all_sections}"
   ]
  },
  {
   "cell_type": "markdown",
   "metadata": {},
   "source": [
    "## Graph"
   ]
  },
  {
   "cell_type": "code",
   "execution_count": 519,
   "metadata": {},
   "outputs": [
    {
     "data": {
      "image/png": "[encoded data removed]",
      "text/plain": [
       "<IPython.core.display.Image object>"
      ]
     },
     "metadata": {},
     "output_type": "display_data"
    }
   ],
   "source": [
    "from IPython.display import Image, display\n",
    "from langgraph.graph import END, START, StateGraph\n",
    "\n",
    "# Define the graph\n",
    "builder = StateGraph(state_schema=BlogState)\n",
    "# builder = StateGraph(state_schema=ReportState)\n",
    "builder.add_node(define_structure)\n",
    "builder.add_node(approve_structure)\n",
    "builder.add_node(\"write_section\", writer_graph)\n",
    "builder.add_node(gather_completed_sections)\n",
    "builder.add_node(write_final_sections)\n",
    "builder.add_node(compile_final_report)\n",
    "\n",
    "builder.add_edge(START, \"define_structure\")\n",
    "builder.add_edge(\"define_structure\", \"approve_structure\")\n",
    "# # Use conditional edge to send documents to summarization\n",
    "builder.add_conditional_edges(\n",
    "    \"approve_structure\", spawn_section_writing, [\"write_section\"]\n",
    ")\n",
    "builder.add_edge(\"write_section\", \"gather_completed_sections\")\n",
    "builder.add_conditional_edges(\n",
    "    \"gather_completed_sections\", spawn_final_section_writing, [\"write_final_sections\"]\n",
    ")\n",
    "builder.add_edge(\"write_final_sections\", \"compile_final_report\")\n",
    "builder.add_edge(\"compile_final_report\", END)\n",
    "\n",
    "# Compile\n",
    "graph = builder.compile()\n",
    "graph.name = \"Blog Graph\"\n",
    "\n",
    "# View\n",
    "display(Image(graph.get_graph(xray=1).draw_mermaid_png()))"
   ]
  },
  {
   "cell_type": "markdown",
   "metadata": {},
   "source": [
    "# Test"
   ]
  },
  {
   "cell_type": "code",
   "execution_count": 520,
   "metadata": {},
   "outputs": [],
   "source": [
    "state = BlogState(sections=[], blog_request=None)  # create state\n",
    "# state = {\n",
    "#     \"tavily_topic\": \"general\",\n",
    "#     \"tavily_days\": None,\n",
    "#     \"number_of_queries\": 5,\n",
    "#     \"sections\": [],\n",
    "#     \"source_str\": \"\",\n",
    "#     \"report_sections_from_research\": \"\",\n",
    "#     \"completed_sections\": [],\n",
    "# }\n",
    "result = await graph.ainvoke(input=state)  # excercise the graph"
   ]
  },
  {
   "cell_type": "code",
   "execution_count": 521,
   "metadata": {},
   "outputs": [
    {
     "data": {
      "text/plain": [
       "{'messages': [],\n",
       " 'blog_request': None,\n",
       " 'reference_content': [],\n",
       " 'sections': [Section(name='Introduction', description='Introduction to the topic', research=False, content='Final section Introduction'),\n",
       "  Section(name='Background', description='Background on the topic', research=True, content='Content for Background section.'),\n",
       "  Section(name='Methodology', description='Methodology for the research', research=True, content='Content for Methodology section.'),\n",
       "  Section(name='Results', description='Results of the research', research=True, content='Content for Results section.'),\n",
       "  Section(name='Discussion', description='Discussion of the results', research=True, content='Content for Discussion section.'),\n",
       "  Section(name='Conclusion', description='Conclusion of the research', research=False, content='Final section Conclusion')],\n",
       " 'completed_sections': [Section(name='Background', description='Background on the topic', research=True, content='Content for Background section.'),\n",
       "  Section(name='Methodology', description='Methodology for the research', research=True, content='Content for Methodology section.'),\n",
       "  Section(name='Results', description='Results of the research', research=True, content='Content for Results section.'),\n",
       "  Section(name='Discussion', description='Discussion of the results', research=True, content='Content for Discussion section.'),\n",
       "  Section(name='Introduction', description='Introduction to the topic', research=False, content='Final section Introduction'),\n",
       "  Section(name='Conclusion', description='Conclusion of the research', research=False, content='Final section Conclusion')],\n",
       " 'blog_structure': '',\n",
       " 'final_blog': 'Final section Introduction\\n\\nContent for Background section.\\n\\nContent for Methodology section.\\n\\nContent for Results section.\\n\\nContent for Discussion section.\\n\\nFinal section Conclusion',\n",
       " 'completed_blog_sections': '\\n============================================================\\nSection 1: Background\\n============================================================\\nDescription:\\nBackground on the topic\\nRequires Research: \\nTrue\\n\\nContent:\\nContent for Background section.\\n\\n\\n============================================================\\nSection 2: Methodology\\n============================================================\\nDescription:\\nMethodology for the research\\nRequires Research: \\nTrue\\n\\nContent:\\nContent for Methodology section.\\n\\n\\n============================================================\\nSection 3: Results\\n============================================================\\nDescription:\\nResults of the research\\nRequires Research: \\nTrue\\n\\nContent:\\nContent for Results section.\\n\\n\\n============================================================\\nSection 4: Discussion\\n============================================================\\nDescription:\\nDiscussion of the results\\nRequires Research: \\nTrue\\n\\nContent:\\nContent for Discussion section.\\n\\n'}"
      ]
     },
     "execution_count": 521,
     "metadata": {},
     "output_type": "execute_result"
    }
   ],
   "source": [
    "# Markdown(result.get('final_report', \"\"))\n",
    "# Markdown(result.)\n",
    "result"
   ]
  }
 ],
 "metadata": {
  "kernelspec": {
   "display_name": "eminence-builder-eMq4OTxV-py3.13",
   "language": "python",
   "name": "python3"
  },
  "language_info": {
   "codemirror_mode": {
    "name": "ipython",
    "version": 3
   },
   "file_extension": ".py",
   "mimetype": "text/x-python",
   "name": "python",
   "nbconvert_exporter": "python",
   "pygments_lexer": "ipython3",
   "version": "3.13.1"
  }
 },
 "nbformat": 4,
 "nbformat_minor": 2
}
