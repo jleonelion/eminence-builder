{
 "cells": [
  {
   "cell_type": "markdown",
   "metadata": {},
   "source": [
    "# Create LinkedIn Post\n",
    "Creates an engaging LinkedIn post on topics pertinent to my profile"
   ]
  },
  {
   "cell_type": "markdown",
   "metadata": {},
   "source": [
    "## Setup"
   ]
  },
  {
   "cell_type": "code",
   "execution_count": 1,
   "metadata": {},
   "outputs": [],
   "source": [
    "%%capture --no-stderr\n",
    "%pip install --quiet -U langgraph langchain-community langchain-openai composio-langgraph duckduckgo-search langchain-unstructured beautifulsoup4 unstructured playwright"
   ]
  },
  {
   "cell_type": "code",
   "execution_count": 2,
   "metadata": {},
   "outputs": [],
   "source": [
    "import getpass\n",
    "import os\n",
    "\n",
    "def _set_env(var: str):\n",
    "    if not os.environ.get(var):\n",
    "        os.environ[var] = getpass.getpass(f\"{var}: \")"
   ]
  },
  {
   "cell_type": "code",
   "execution_count": 3,
   "metadata": {},
   "outputs": [],
   "source": [
    "_set_env(\"LANGCHAIN_API_KEY\")\n",
    "_set_env(\"LANGCHAIN_TRACING_V2\")\n",
    "_set_env(\"LANGCHAIN_PROJECT\")\n",
    "_set_env(\"LANGCHAIN_ENDPOINT\")"
   ]
  },
  {
   "cell_type": "code",
   "execution_count": 4,
   "metadata": {},
   "outputs": [],
   "source": [
    "_set_env(\"OPENAI_API_KEY\")"
   ]
  },
  {
   "cell_type": "code",
   "execution_count": 5,
   "metadata": {},
   "outputs": [],
   "source": [
    "_set_env(\"COMPOSIO_API_KEY\")"
   ]
  },
  {
   "cell_type": "markdown",
   "metadata": {},
   "source": [
    "## Tools"
   ]
  },
  {
   "cell_type": "code",
   "execution_count": 6,
   "metadata": {},
   "outputs": [],
   "source": [
    "tools = []"
   ]
  },
  {
   "cell_type": "code",
   "execution_count": 7,
   "metadata": {},
   "outputs": [],
   "source": [
    "from langchain_community.tools import DuckDuckGoSearchRun\n",
    "\n",
    "search = DuckDuckGoSearchRun()\n",
    "\n",
    "tools.append(search)"
   ]
  },
  {
   "cell_type": "code",
   "execution_count": 8,
   "metadata": {},
   "outputs": [
    {
     "name": "stderr",
     "output_type": "stream",
     "text": [
      "USER_AGENT environment variable not set, consider setting it to identify your requests.\n"
     ]
    }
   ],
   "source": [
    "from typing import List\n",
    "\n",
    "from langchain_community.document_loaders import WebBaseLoader\n",
    "from langchain_core.tools import tool\n",
    "\n",
    "@tool\n",
    "def scrape_webpages(urls: List[str]) -> str:\n",
    "    \"\"\"Use requests and bs4 to scrape the provided web pages for detailed information.\"\"\"\n",
    "    loader = WebBaseLoader(urls)\n",
    "    docs = loader.load()\n",
    "    return \"\\n\\n\".join(\n",
    "        [\n",
    "            f'<Document name=\"{doc.metadata.get(\"title\", \"\")}\">\\n{doc.page_content}\\n</Document>'\n",
    "            for doc in docs\n",
    "        ]\n",
    "    )\n",
    "# tools.append(scrape_webpages)"
   ]
  },
  {
   "cell_type": "code",
   "execution_count": null,
   "metadata": {},
   "outputs": [],
   "source": [
    "# from typing import Literal\n",
    "# from composio_langgraph import ComposioToolSet, App\n",
    "\n",
    "# composio_toolset = ComposioToolSet()\n",
    "# tools = composio_toolset.get_tools(\n",
    "#     apps=[App.GITHUB]\n",
    "# )\n"
   ]
  },
  {
   "cell_type": "code",
   "execution_count": null,
   "metadata": {},
   "outputs": [],
   "source": [
    "from langgraph.prebuilt import ToolNode\n",
    "\n",
    "tool_node = ToolNode(tools)"
   ]
  },
  {
   "cell_type": "markdown",
   "metadata": {},
   "source": [
    "## Agent"
   ]
  },
  {
   "cell_type": "code",
   "execution_count": null,
   "metadata": {},
   "outputs": [],
   "source": [
    "from langchain_openai import ChatOpenAI\n",
    "\n",
    "model = None\n",
    "if os.getenv(\"OPENAI_API_KEY\", None):\n",
    "    model = ChatOpenAI(\n",
    "        model=\"gpt-4o-mini\",\n",
    "        temperature=os.getenv(\"TEMPERATURE\", 0),\n",
    "        streaming=os.getenv(\"STREAMING\", True)\n",
    "    )\n",
    "else:\n",
    "    raise Exception(\"Cannot infer chat model from environment variables\")\n"
   ]
  },
  {
   "cell_type": "code",
   "execution_count": null,
   "metadata": {},
   "outputs": [],
   "source": [
    "from langchain_core.messages import AIMessage\n",
    "\n",
    "async def agent_node(state, agent, name):\n",
    "    \"\"\"Generic node to execute an arbitrary agent and returning messages\"\"\"\n",
    "    try:\n",
    "        result = await agent.ainvoke(state)\n",
    "\n",
    "        if isinstance(result, dict) and \"messages\" in result:\n",
    "            return {\"messages\": [AIMessage(content=result[\"messages\"][-1].content, name=name)]}\n",
    "        return {\"messages\": [AIMessage(content=str(result), name=name)]}\n",
    "    except Exception as e:\n",
    "        return {\"messages\": [AIMessage(content=f\"An error occurred: {str(e)}\", name=name)]}"
   ]
  },
  {
   "cell_type": "code",
   "execution_count": null,
   "metadata": {},
   "outputs": [],
   "source": [
    "from typing import Annotated, TypedDict\n",
    "from langchain_core.messages import BaseMessage\n",
    "from langgraph.graph.message import add_messages\n",
    "from langgraph.managed import IsLastStep\n",
    "\n",
    "class CustomState(TypedDict):\n",
    "        url: str\n",
    "        topics: list[str]\n",
    "        age: str\n",
    "        count: int\n",
    "        messages: Annotated[list[BaseMessage], add_messages]\n",
    "        is_last_step: IsLastStep"
   ]
  },
  {
   "cell_type": "code",
   "execution_count": null,
   "metadata": {},
   "outputs": [],
   "source": [
    "from langgraph.prebuilt import create_react_agent\n",
    "from langchain import hub\n",
    "from langchain_core.prompts import ChatPromptTemplate\n",
    "from langgraph.checkpoint.memory import MemorySaver\n",
    "\n",
    "prompt = hub.pull(\"content-finder\")\n",
    "# prompt = hub.pull(\"ih/ih-react-agent-executor\")\n",
    "# prompt = ChatPromptTemplate([\n",
    "#     (\"system\", \"You are a helpful assistant.\"),\n",
    "#     (\"user\", \"What is the weather like in {city}?\"),\n",
    "# ])\n",
    "agent_executor = create_react_agent(model, tools, state_schema=CustomState, state_modifier=prompt, checkpointer=MemorySaver())"
   ]
  },
  {
   "cell_type": "code",
   "execution_count": null,
   "metadata": {},
   "outputs": [],
   "source": [
    "input_values = {\n",
    "    # \"url\": \"https://techcommunity.microsoft.com/group/azure-tech-bites?messages.widget.messagelistfornodebyrecentactivitywidget-tab-main-group-hub-widgets-0=mostRecent\",\n",
    "    \"url\": \"https://letsbuildazure.com/\",\n",
    "    \"topics\": [\"Azure\", \"security\", \"networking\", \"AI\", \"kubernetes\", \"devops\"],\n",
    "    \"age\" : \"2 weeks\",\n",
    "    \"count\": 5,\n",
    "}\n",
    "config = {\"configurable\": {\"thread_id\": \"thread-1\"}}\n",
    "agent_executor.invoke(input_values, config=config)"
   ]
  }
 ],
 "metadata": {
  "kernelspec": {
   "display_name": "Python 3",
   "language": "python",
   "name": "python3"
  },
  "language_info": {
   "codemirror_mode": {
    "name": "ipython",
    "version": 3
   },
   "file_extension": ".py",
   "mimetype": "text/x-python",
   "name": "python",
   "nbconvert_exporter": "python",
   "pygments_lexer": "ipython3",
   "version": "3.11.10"
  }
 },
 "nbformat": 4,
 "nbformat_minor": 2
}
